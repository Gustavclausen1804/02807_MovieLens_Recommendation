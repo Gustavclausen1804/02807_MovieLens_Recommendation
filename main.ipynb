{
 "cells": [
  {
   "cell_type": "code",
   "execution_count": 1,
   "metadata": {},
   "outputs": [
    {
     "name": "stdout",
     "output_type": "stream",
     "text": [
      "c:\\DTU - Master\\1 semester\\Computational tools for data science (02807)\\project\\02807_MovieLens_Recommendation\\.venv\\Scripts\\python.exe\n"
     ]
    }
   ],
   "source": [
    "import sys # check if the correct .venv in activted.\n",
    "print(sys.executable)\n"
   ]
  },
  {
   "cell_type": "code",
   "execution_count": 2,
   "metadata": {},
   "outputs": [],
   "source": [
    "# importing the packages\n",
    "import pandas as pd"
   ]
  },
  {
   "cell_type": "code",
   "execution_count": 8,
   "metadata": {},
   "outputs": [],
   "source": [
    "# Loading the data into the dataframes\n",
    "dt_tag = pd.read_csv('data/tag.csv')\n",
    "dt_rating = pd.read_csv('data/rating.csv')\n",
    "dt_movie = pd.read_csv('data/movie.csv')\n",
    "dt_link = pd.read_csv('data/link.csv')  \n",
    "dt_genome_scores = pd.read_csv('data/genome_scores.csv')\n",
    "dt_genome_tags = pd.read_csv('data/genome_tags.csv')  \n",
    "\n",
    "\n",
    "# sampling 10% of the data in dt_tag to minimize the memory usage and to speed up the process\n",
    "dt_tag = dt_tag.sample(frac=0.1, random_state=1)\n",
    "dt_tag = dt_tag.drop(columns=['timestamp'])\n"
   ]
  },
  {
   "cell_type": "code",
   "execution_count": 11,
   "metadata": {},
   "outputs": [
    {
     "name": "stdout",
     "output_type": "stream",
     "text": [
      "Index(['userId', 'movieId', 'tag', 'rating', 'timestamp', 'title', 'genres',\n",
      "       'imdbId', 'tmdbId', 'tagId', 'relevance'],\n",
      "      dtype='object')\n"
     ]
    }
   ],
   "source": [
    "# Merging the dataframes\n",
    "dt = pd.merge(dt_tag, dt_rating, on=['userId', 'movieId'], how='inner')\n",
    "dt = pd.merge(dt, dt_movie, on='movieId', how='inner')\n",
    "dt = pd.merge(dt, dt_link, on='movieId', how='inner')\n",
    "dt = pd.merge(dt, dt_genome_scores, on='movieId', how='inner')\n",
    "dt = pd.merge(dt, dt_genome_tags, on=['tagId', 'tag'], how='inner')\n",
    "\n",
    "print(dt.columns)"
   ]
  }
 ],
 "metadata": {
  "kernelspec": {
   "display_name": ".venv",
   "language": "python",
   "name": "python3"
  },
  "language_info": {
   "codemirror_mode": {
    "name": "ipython",
    "version": 3
   },
   "file_extension": ".py",
   "mimetype": "text/x-python",
   "name": "python",
   "nbconvert_exporter": "python",
   "pygments_lexer": "ipython3",
   "version": "3.11.5"
  }
 },
 "nbformat": 4,
 "nbformat_minor": 2
}
