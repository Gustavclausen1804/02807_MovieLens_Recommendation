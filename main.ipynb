{
 "cells": [
  {
   "cell_type": "code",
   "execution_count": 8,
   "metadata": {},
   "outputs": [
    {
     "name": "stdout",
     "output_type": "stream",
     "text": [
      "/Users/oscarmandrupsen/Desktop/Semester 7/Computational Tools/02807_MovieLens_Recommendation/.venv/bin/python\n"
     ]
    }
   ],
   "source": [
    "import sys # check if the correct .venv in activated.\n",
    "print(sys.executable)\n"
   ]
  },
  {
   "cell_type": "code",
   "execution_count": 3,
   "metadata": {},
   "outputs": [],
   "source": [
    "# importing the packages\n",
    "import pandas as pd"
   ]
  },
  {
   "cell_type": "code",
   "execution_count": 9,
   "metadata": {},
   "outputs": [],
   "source": [
    "# Loading the data into the dataframes\n",
    "dt_tag = pd.read_csv('data/tag.csv')\n",
    "dt_rating = pd.read_csv('data/rating.csv')\n",
    "dt_movie = pd.read_csv('data/movie.csv')\n",
    "dt_link = pd.read_csv('data/link.csv')  \n",
    "dt_genome_scores = pd.read_csv('data/genome_scores.csv')\n",
    "dt_genome_tags = pd.read_csv('data/genome_tags.csv')  \n",
    "\n",
    "\n",
    "# sampling 10% of the data in dt_tag to minimize the memory usage and to speed up the process\n",
    "dt_tag = dt_tag.sample(frac=1, random_state=1)\n",
    "dt_tag = dt_tag.rename(columns={'timestamp': 'tag_timestamp'})\n"
   ]
  },
  {
   "cell_type": "code",
   "execution_count": 11,
   "metadata": {},
   "outputs": [
    {
     "name": "stdout",
     "output_type": "stream",
     "text": [
      "dt_tag missing or empty values per column:\n",
      "userId            0\n",
      "movieId           0\n",
      "tag              16\n",
      "tag_timestamp     0\n",
      "dtype: int64\n",
      "dt_tag shape after dropping missing values: (465548, 4)\n",
      "\n",
      "dt_rating missing or empty values per column:\n",
      "userId       0\n",
      "movieId      0\n",
      "rating       0\n",
      "timestamp    0\n",
      "dtype: int64\n",
      "dt_rating shape after dropping missing values: (20000263, 4)\n",
      "\n",
      "dt_movie missing or empty values per column:\n",
      "movieId    0\n",
      "title      0\n",
      "genres     0\n",
      "dtype: int64\n",
      "dt_movie shape after dropping missing values: (27278, 3)\n",
      "\n",
      "dt_link missing or empty values per column:\n",
      "movieId      0\n",
      "imdbId       0\n",
      "tmdbId     252\n",
      "dtype: int64\n",
      "dt_link shape after dropping missing values: (27026, 3)\n",
      "\n",
      "dt_genome_scores missing or empty values per column:\n",
      "movieId      0\n",
      "tagId        0\n",
      "relevance    0\n",
      "dtype: int64\n",
      "dt_genome_scores shape after dropping missing values: (11709768, 3)\n",
      "\n",
      "dt_genome_tags missing or empty values per column:\n",
      "tagId    0\n",
      "tag      0\n",
      "dtype: int64\n",
      "dt_genome_tags shape after dropping missing values: (1128, 2)\n",
      "\n"
     ]
    }
   ],
   "source": [
    "import numpy as np\n",
    "\n",
    "# Function to count empty strings and NaNs\n",
    "def count_missing_values(df, name):\n",
    "    empty_strings = (df == '').sum()\n",
    "    missing_values = df.isnull().sum()\n",
    "    total_missing = empty_strings + missing_values\n",
    "    print(f'{name} missing or empty values per column:')\n",
    "    print(total_missing)\n",
    "    # Replace empty strings with NaN and drop rows with any NaN\n",
    "    df.replace('', np.nan, inplace=True)\n",
    "    df.dropna(inplace=True)\n",
    "    print(f'{name} shape after dropping missing values: {df.shape}\\n')\n",
    "\n",
    "# Apply the function to each dataframe\n",
    "count_missing_values(dt_tag, 'dt_tag')\n",
    "count_missing_values(dt_rating, 'dt_rating')\n",
    "count_missing_values(dt_movie, 'dt_movie')\n",
    "count_missing_values(dt_link, 'dt_link')\n",
    "count_missing_values(dt_genome_scores, 'dt_genome_scores')\n",
    "count_missing_values(dt_genome_tags, 'dt_genome_tags')"
   ]
  },
  {
   "cell_type": "code",
   "execution_count": 5,
   "metadata": {},
   "outputs": [
    {
     "name": "stdout",
     "output_type": "stream",
     "text": [
      "Index(['userId', 'movieId', 'tag', 'rating', 'timestamp', 'title', 'genres',\n",
      "       'imdbId', 'tmdbId', 'tagId', 'relevance'],\n",
      "      dtype='object')\n"
     ]
    }
   ],
   "source": [
    "# Merging the dataframes\n",
    "dt = pd.merge(dt_tag, dt_rating, on=['userId', 'movieId'], how='inner')\n",
    "dt = pd.merge(dt, dt_movie, on='movieId', how='inner')\n",
    "dt = pd.merge(dt, dt_link, on='movieId', how='inner')\n",
    "dt = pd.merge(dt, dt_genome_scores, on='movieId', how='inner')\n",
    "dt = pd.merge(dt, dt_genome_tags, on=['tagId', 'tag'], how='inner')\n",
    "\n",
    "print(dt.columns)"
   ]
  }
 ],
 "metadata": {
  "kernelspec": {
   "display_name": ".venv",
   "language": "python",
   "name": "python3"
  },
  "language_info": {
   "codemirror_mode": {
    "name": "ipython",
    "version": 3
   },
   "file_extension": ".py",
   "mimetype": "text/x-python",
   "name": "python",
   "nbconvert_exporter": "python",
   "pygments_lexer": "ipython3",
   "version": "3.12.2"
  }
 },
 "nbformat": 4,
 "nbformat_minor": 2
}
